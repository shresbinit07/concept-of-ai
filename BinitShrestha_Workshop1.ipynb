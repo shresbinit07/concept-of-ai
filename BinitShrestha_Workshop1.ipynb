{
  "nbformat": 4,
  "nbformat_minor": 0,
  "metadata": {
    "colab": {
      "provenance": []
    },
    "kernelspec": {
      "name": "python3",
      "display_name": "Python 3"
    },
    "language_info": {
      "name": "python"
    }
  },
  "cells": [
    {
      "cell_type": "code",
      "execution_count": 1,
      "metadata": {
        "colab": {
          "base_uri": "https://localhost:8080/"
        },
        "id": "W3AHbiqjIhv8",
        "outputId": "5fb9f807-9e9a-4b46-fe2b-f7e77eeb9c0e"
      },
      "outputs": [
        {
          "output_type": "stream",
          "name": "stdout",
          "text": [
            "[[0. 0.]\n",
            " [0. 0.]]\n"
          ]
        }
      ],
      "source": [
        "#task-1\n",
        "import numpy as np\n",
        "empty_arr = np.zeros((2,2))\n",
        "print(empty_arr)"
      ]
    },
    {
      "cell_type": "code",
      "source": [
        "#task-2\n",
        "import numpy as np\n",
        "empty_Arr2=np.ones((4,2))\n",
        "print(empty_Arr2)"
      ],
      "metadata": {
        "colab": {
          "base_uri": "https://localhost:8080/"
        },
        "id": "9cddQysjInw9",
        "outputId": "fbd3ef9d-415a-40ef-ce9d-3c67dcb3e3bf"
      },
      "execution_count": 2,
      "outputs": [
        {
          "output_type": "stream",
          "name": "stdout",
          "text": [
            "[[1. 1.]\n",
            " [1. 1.]\n",
            " [1. 1.]\n",
            " [1. 1.]]\n"
          ]
        }
      ]
    },
    {
      "cell_type": "code",
      "source": [
        "#task-3\n",
        "array_full=np.full(2,2)\n",
        "print(array_full)"
      ],
      "metadata": {
        "colab": {
          "base_uri": "https://localhost:8080/"
        },
        "id": "LLt7oXSTInv7",
        "outputId": "ba94fa08-02eb-4e30-d97c-3d44aa09188c"
      },
      "execution_count": 3,
      "outputs": [
        {
          "output_type": "stream",
          "name": "stdout",
          "text": [
            "[2 2]\n"
          ]
        }
      ]
    },
    {
      "cell_type": "code",
      "source": [
        "#task-4\n",
        "zeros_arr= np.zeros([2,2])\n",
        "print(zeros_arr)"
      ],
      "metadata": {
        "colab": {
          "base_uri": "https://localhost:8080/"
        },
        "id": "4Noun77BIrof",
        "outputId": "39b05667-bfb4-460c-9bea-961d913e8d2f"
      },
      "execution_count": 4,
      "outputs": [
        {
          "output_type": "stream",
          "name": "stdout",
          "text": [
            "[[0. 0.]\n",
            " [0. 0.]]\n"
          ]
        }
      ]
    },
    {
      "cell_type": "code",
      "source": [
        "#task-5\n",
        "ones_Arr=np.ones([2,2])\n",
        "print(ones_Arr)"
      ],
      "metadata": {
        "colab": {
          "base_uri": "https://localhost:8080/"
        },
        "id": "Gzvw1Vz8I2g5",
        "outputId": "066996fc-15a2-4b70-e5c3-d74f5646def4"
      },
      "execution_count": 5,
      "outputs": [
        {
          "output_type": "stream",
          "name": "stdout",
          "text": [
            "[[1. 1.]\n",
            " [1. 1.]]\n"
          ]
        }
      ]
    },
    {
      "cell_type": "code",
      "source": [
        "#task-6\n",
        "new_list=[1,2,3,4]\n",
        "array = np.array(new_list)\n",
        "print(array)"
      ],
      "metadata": {
        "colab": {
          "base_uri": "https://localhost:8080/"
        },
        "id": "ptx69cp8I3X4",
        "outputId": "597f6047-cb64-454e-f625-242ed21acd52"
      },
      "execution_count": 6,
      "outputs": [
        {
          "output_type": "stream",
          "name": "stdout",
          "text": [
            "[1 2 3 4]\n"
          ]
        }
      ]
    },
    {
      "cell_type": "code",
      "source": [
        "#task-1\n",
        "array_2 = np.arange(10,50)\n",
        "print(array_2)"
      ],
      "metadata": {
        "colab": {
          "base_uri": "https://localhost:8080/"
        },
        "id": "zFUzc3exI6qt",
        "outputId": "c9ff2504-3022-447a-9cb3-f09e5b87f953"
      },
      "execution_count": 7,
      "outputs": [
        {
          "output_type": "stream",
          "name": "stdout",
          "text": [
            "[10 11 12 13 14 15 16 17 18 19 20 21 22 23 24 25 26 27 28 29 30 31 32 33\n",
            " 34 35 36 37 38 39 40 41 42 43 44 45 46 47 48 49]\n"
          ]
        }
      ]
    },
    {
      "cell_type": "code",
      "source": [
        "#task-2\n",
        "array_3 = np.array([0,1,2,3,4,5,6,7,8])\n",
        "new = array_3.reshape(3,3)\n",
        "print(new)"
      ],
      "metadata": {
        "colab": {
          "base_uri": "https://localhost:8080/"
        },
        "id": "gS-VIVyqI9N-",
        "outputId": "c8d558c6-c8dc-439a-bfb6-75667633f63b"
      },
      "execution_count": 8,
      "outputs": [
        {
          "output_type": "stream",
          "name": "stdout",
          "text": [
            "[[0 1 2]\n",
            " [3 4 5]\n",
            " [6 7 8]]\n"
          ]
        }
      ]
    },
    {
      "cell_type": "code",
      "source": [
        "#task-3\n",
        "identity = np.eye(3,3)\n",
        "print(identity)"
      ],
      "metadata": {
        "colab": {
          "base_uri": "https://localhost:8080/"
        },
        "id": "2eZxsANIJCan",
        "outputId": "519f4c68-eea7-45f1-d187-72c69fe47f5f"
      },
      "execution_count": 9,
      "outputs": [
        {
          "output_type": "stream",
          "name": "stdout",
          "text": [
            "[[1. 0. 0.]\n",
            " [0. 1. 0.]\n",
            " [0. 0. 1.]]\n"
          ]
        }
      ]
    },
    {
      "cell_type": "code",
      "source": [
        "#task-4\n",
        "random_array = np.random.random(30)\n",
        "mean_value = random_array.mean()\n",
        "print(\"Random array:\", random_array)\n",
        "print(\"Mean of the array:\", mean_value)\n"
      ],
      "metadata": {
        "colab": {
          "base_uri": "https://localhost:8080/"
        },
        "id": "NoCR-MCdJGww",
        "outputId": "5421b798-4bd7-4615-fedb-ebc51c3144c9"
      },
      "execution_count": 10,
      "outputs": [
        {
          "output_type": "stream",
          "name": "stdout",
          "text": [
            "Random array: [0.05560235 0.59417213 0.49899302 0.52857144 0.26227136 0.30695762\n",
            " 0.125894   0.63793307 0.53728608 0.05499148 0.11010885 0.23860716\n",
            " 0.71573909 0.9616451  0.7361304  0.93685562 0.67768795 0.40705439\n",
            " 0.65971303 0.2596111  0.91963682 0.42645145 0.4960889  0.47054499\n",
            " 0.03941358 0.63752857 0.54236067 0.72193995 0.43200261 0.21228304]\n",
            "Mean of the array: 0.473469194129261\n"
          ]
        }
      ]
    },
    {
      "cell_type": "code",
      "source": [
        "#task-5\n",
        "import numpy as np\n",
        "random_array = np.random.random((10, 10))\n",
        "min_value = np.min(random_array)\n",
        "max_value = np.max(random_array)\n",
        "print(\"Random Array:\")\n",
        "print(random_array)\n",
        "print(\"\\nMinimum Value:\", min_value)\n",
        "print(\"Maximum Value:\", max_value)\n"
      ],
      "metadata": {
        "colab": {
          "base_uri": "https://localhost:8080/"
        },
        "id": "aQo8BU1FJIsy",
        "outputId": "18da0d94-7844-47a2-858e-559ab4860882"
      },
      "execution_count": 11,
      "outputs": [
        {
          "output_type": "stream",
          "name": "stdout",
          "text": [
            "Random Array:\n",
            "[[0.3346917  0.01347653 0.33891861 0.87450289 0.70492371 0.88733259\n",
            "  0.63701919 0.19053311 0.74892734 0.64635921]\n",
            " [0.75163127 0.3218385  0.60909778 0.87692112 0.5527158  0.04397177\n",
            "  0.96330279 0.14005965 0.61677427 0.02514544]\n",
            " [0.42966435 0.01008376 0.86093304 0.95154458 0.42174631 0.50011608\n",
            "  0.18655985 0.27439703 0.57968909 0.95625358]\n",
            " [0.6153396  0.12917559 0.59211797 0.92748145 0.96728919 0.89245033\n",
            "  0.33567157 0.22440373 0.42205469 0.01393302]\n",
            " [0.4267656  0.44364569 0.20703682 0.54292053 0.49959038 0.92501736\n",
            "  0.760459   0.65370179 0.18973306 0.68057784]\n",
            " [0.3602316  0.04335699 0.69627687 0.21046712 0.71782168 0.00917364\n",
            "  0.70412682 0.78289184 0.32786377 0.45496741]\n",
            " [0.67199932 0.13301128 0.46745441 0.14571865 0.1906503  0.06562351\n",
            "  0.45948583 0.07897756 0.37851076 0.99382702]\n",
            " [0.29963838 0.93408737 0.40609505 0.94202127 0.27867165 0.2190117\n",
            "  0.60434337 0.89902998 0.88913623 0.10699181]\n",
            " [0.6544726  0.08044925 0.08572053 0.16830787 0.39567927 0.52122995\n",
            "  0.40574292 0.86558871 0.63847787 0.21324795]\n",
            " [0.92192664 0.54793636 0.04548828 0.85761044 0.71861728 0.61678207\n",
            "  0.13580288 0.07916167 0.85601216 0.37379961]]\n",
            "\n",
            "Minimum Value: 0.009173639263580391\n",
            "Maximum Value: 0.9938270244110223\n"
          ]
        }
      ]
    },
    {
      "cell_type": "code",
      "source": [
        "#task-5\n",
        "zero_array = np.zeros(10)\n",
        "zero_array[4] = 1\n",
        "print(zero_array)\n"
      ],
      "metadata": {
        "colab": {
          "base_uri": "https://localhost:8080/"
        },
        "id": "8e_vJT2sJM4o",
        "outputId": "62e91747-56a9-4cb6-8827-bbd7202b093b"
      },
      "execution_count": 12,
      "outputs": [
        {
          "output_type": "stream",
          "name": "stdout",
          "text": [
            "[0. 0. 0. 0. 1. 0. 0. 0. 0. 0.]\n"
          ]
        }
      ]
    },
    {
      "cell_type": "code",
      "source": [
        "#task-6\n",
        "arr = np.array([1, 2, 0, 0, 4, 0])\n",
        "reversed_arr = arr[::-1]\n",
        "print(reversed_arr)"
      ],
      "metadata": {
        "colab": {
          "base_uri": "https://localhost:8080/"
        },
        "id": "NO3Ba9u9Jvaf",
        "outputId": "4e5b7ae2-01e0-465b-bb3d-24af08e3d39e"
      },
      "execution_count": 13,
      "outputs": [
        {
          "output_type": "stream",
          "name": "stdout",
          "text": [
            "[0 4 0 0 2 1]\n"
          ]
        }
      ]
    },
    {
      "cell_type": "code",
      "source": [
        "#task-7\n",
        "array_6 = np.array([[1,0,0,0]])\n",
        "print(array_6)"
      ],
      "metadata": {
        "colab": {
          "base_uri": "https://localhost:8080/"
        },
        "id": "vWHy-pRCJ0MD",
        "outputId": "ebe389d9-b531-4a21-cca8-ae6d1ffb4595"
      },
      "execution_count": 14,
      "outputs": [
        {
          "output_type": "stream",
          "name": "stdout",
          "text": [
            "[[1 0 0 0]]\n"
          ]
        }
      ]
    },
    {
      "cell_type": "code",
      "source": [
        "# prompt: Create a 2d array with 1 on border and 0 inside.\n",
        "\n",
        "import numpy as np\n",
        "\n",
        "def create_border_array(rows, cols):\n",
        "\n",
        "\n",
        "  arr = np.zeros((rows, cols), dtype=int)\n",
        "  arr[0, :] = 1\n",
        "  arr[-1, :] = 1\n",
        "  arr[:, 0] = 1\n",
        "  arr[:, -1] = 1\n",
        "  return arr\n",
        "\n",
        "\n",
        "rows = 3\n",
        "cols = 3\n",
        "result_array = create_border_array(rows, cols)\n",
        "result_array"
      ],
      "metadata": {
        "colab": {
          "base_uri": "https://localhost:8080/"
        },
        "id": "L7bAMV8HJ9AS",
        "outputId": "6b98047f-2002-4554-83cc-b1de85ec781f"
      },
      "execution_count": 19,
      "outputs": [
        {
          "output_type": "execute_result",
          "data": {
            "text/plain": [
              "array([[1, 1, 1],\n",
              "       [1, 0, 1],\n",
              "       [1, 1, 1]])"
            ]
          },
          "metadata": {},
          "execution_count": 19
        }
      ]
    },
    {
      "cell_type": "code",
      "source": [
        "#Problem 3\n",
        "\n",
        "x = np.array([[1, 2], [3, 5]])\n",
        "y = np.array([[5, 6], [7, 8]])\n",
        "v = np.array([9, 10])\n",
        "w = np.array([11, 12])\n",
        "\n",
        "# Task-1\n",
        "add = x + y\n",
        "add2 = w + v\n",
        "print(\"Addition1:\\n\", add)\n",
        "print(\"Addition2:\\n\", add2)\n",
        "\n",
        "#Task-2\n",
        "\n",
        "sub = x-y\n",
        "sub2= w-v\n",
        "print(\"Subtraction1:\\n\", sub)\n",
        "print(\"Subtraction2:\\n\", sub2)\n",
        "\n",
        "\n",
        "#Task-3\n",
        "new_x = x*2\n",
        "new_y = y*3\n",
        "new_v = v*4\n",
        "new_w = w*5\n",
        "print(\"X:\\n\", new_x)\n",
        "print(\"Y:\\n\", new_y)\n",
        "print(\"V:\\n\", new_v)\n",
        "print(\"Z:\\n\", new_w)\n",
        "\n",
        "#Task-4\n",
        "x = np.array([[1, 2], [3, 5]])\n",
        "y = np.array([[5, 6], [7, 8]])\n",
        "v = np.array([9, 10])\n",
        "w = np.array([11, 12])\n",
        "sqrt_x = np.sqrt(x)\n",
        "sqrt_y = np.sqrt(y)\n",
        "sqrt_v = np.sqrt(v)\n",
        "sqrt_w = np.sqrt(w)\n",
        "\n",
        "print(\"Square root of x:\\n\", sqrt_x)\n",
        "print(\"Square root of y:\\n\", sqrt_y)\n",
        "print(\"Square root of v:\\n\", sqrt_v)\n",
        "print(\"Square root of w:\\n\", sqrt_w)\n",
        "\n",
        "#Task-5\n",
        "dot_v_w=np.dot(v,w)\n",
        "dot_x_v=np.dot(x,v)\n",
        "dot_x_y=np.dot(x,y)\n",
        "print(\"Dot product of v and w arrays:\\n\", dot_v_w)\n",
        "print(\"Dot product of x and v arrays:\\n\", dot_x_v)\n",
        "print(\"Dot product of x and y arrays:\\n\", dot_x_y)\n",
        "\n",
        "#Task-6\n",
        "\n",
        "array_v_w = np.stack((v, w), axis=0)\n",
        "print(\"Stacked v and w arrays:\\n\", array_v_w)\n",
        "\n",
        "\n",
        "array_x_y = np.vstack((x, y))\n",
        "print(\"Stacked x and y arrays (vertically):\\n\", array_x_y)\n",
        "\n",
        "#Task-7\n",
        "array_x_v=np.vstack((x,v))\n",
        "print(\"Stacked x and v arrays (vertically):\\n\", array_x_v)"
      ],
      "metadata": {
        "colab": {
          "base_uri": "https://localhost:8080/"
        },
        "id": "IMjkoVe2KWim",
        "outputId": "c3a85840-0ffb-40bc-a4e5-600326b1dda7"
      },
      "execution_count": 20,
      "outputs": [
        {
          "output_type": "stream",
          "name": "stdout",
          "text": [
            "Addition1:\n",
            " [[ 6  8]\n",
            " [10 13]]\n",
            "Addition2:\n",
            " [20 22]\n",
            "Subtraction1:\n",
            " [[-4 -4]\n",
            " [-4 -3]]\n",
            "Subtraction2:\n",
            " [2 2]\n",
            "X:\n",
            " [[ 2  4]\n",
            " [ 6 10]]\n",
            "Y:\n",
            " [[15 18]\n",
            " [21 24]]\n",
            "V:\n",
            " [36 40]\n",
            "Z:\n",
            " [55 60]\n",
            "Square root of x:\n",
            " [[1.         1.41421356]\n",
            " [1.73205081 2.23606798]]\n",
            "Square root of y:\n",
            " [[2.23606798 2.44948974]\n",
            " [2.64575131 2.82842712]]\n",
            "Square root of v:\n",
            " [3.         3.16227766]\n",
            "Square root of w:\n",
            " [3.31662479 3.46410162]\n",
            "Dot product of v and w arrays:\n",
            " 219\n",
            "Dot product of x and v arrays:\n",
            " [29 77]\n",
            "Dot product of x and y arrays:\n",
            " [[19 22]\n",
            " [50 58]]\n",
            "Stacked v and w arrays:\n",
            " [[ 9 10]\n",
            " [11 12]]\n",
            "Stacked x and y arrays (vertically):\n",
            " [[1 2]\n",
            " [3 5]\n",
            " [5 6]\n",
            " [7 8]]\n",
            "Stacked x and v arrays (vertically):\n",
            " [[ 1  2]\n",
            " [ 3  5]\n",
            " [ 9 10]]\n"
          ]
        }
      ]
    },
    {
      "cell_type": "code",
      "source": [
        "#Problem 4\n",
        "\n",
        "#Task-1\n",
        "\n",
        "import numpy as np\n",
        "\n",
        "A = np.array([[3, 4], [7, 8]])\n",
        "A_inv = np.linalg.inv(A)\n",
        "result = np.dot(A, A_inv)\n",
        "print(\"A * A_inv = \\n\", result)\n",
        "I = np.eye(2)\n",
        "print(\"\\nIdentity matrix I:\\n\", I)\n",
        "print(\"\\nIs A * A_inv approximately equal to I? \", np.allclose(result, I))\n",
        "\n",
        "\n",
        "#task-2\n",
        "A = np.array([[3, 4], [7, 8]])\n",
        "B = np.array([[5, 3], [2, 1]])\n",
        "AB = np.dot(A, B)\n",
        "BA = np.dot(B, A)\n",
        "print(\"AB = \\n\", AB)\n",
        "print(\"\\nBA = \\n\", BA)\n",
        "print(\"\\nIs AB equal to BA? \", np.array_equal(AB, BA))\n",
        "\n",
        "#task-3\n",
        "transpose_AB= AB.transpose()\n",
        "print(\"(AB)T =\\n\",transpose_AB)\n",
        "\n",
        "transpose_B= B.transpose()\n",
        "transpose_A= A.transpose()\n",
        "AB_transpose= np.dot(transpose_B,transpose_A)\n",
        "print(\"(B)T(A)T =\\n\",AB_transpose)\n",
        "print(\"\\nIs (AB)T equal to (B)t(A)t? \", np.array_equal(transpose_AB, AB_transpose))\n",
        "\n",
        "\n",
        "\n"
      ],
      "metadata": {
        "colab": {
          "base_uri": "https://localhost:8080/"
        },
        "id": "fCp88ww4K1lE",
        "outputId": "0c55a5e2-e83e-49fb-e752-c12c768cc51f"
      },
      "execution_count": 21,
      "outputs": [
        {
          "output_type": "stream",
          "name": "stdout",
          "text": [
            "A * A_inv = \n",
            " [[1.00000000e+00 0.00000000e+00]\n",
            " [1.77635684e-15 1.00000000e+00]]\n",
            "\n",
            "Identity matrix I:\n",
            " [[1. 0.]\n",
            " [0. 1.]]\n",
            "\n",
            "Is A * A_inv approximately equal to I?  True\n",
            "AB = \n",
            " [[23 13]\n",
            " [51 29]]\n",
            "\n",
            "BA = \n",
            " [[36 44]\n",
            " [13 16]]\n",
            "\n",
            "Is AB equal to BA?  False\n",
            "(AB)T =\n",
            " [[23 51]\n",
            " [13 29]]\n",
            "(B)T(A)T =\n",
            " [[23 51]\n",
            " [13 29]]\n",
            "\n",
            "Is (AB)T equal to (B)t(A)t?  True\n"
          ]
        }
      ]
    },
    {
      "cell_type": "code",
      "source": [
        "\n",
        "import time\n",
        "import numpy as np\n",
        "\n",
        "\n",
        "size = 1_000_000\n",
        "list1 = [i for i in range(size)]\n",
        "list2 = [i for i in range(size)]\n",
        "start_time_list = time.time()\n",
        "result_list = [list1[i] + list2[i] for i in range(size)]\n",
        "end_time_list = time.time()\n",
        "time_list = end_time_list - start_time_list\n",
        "\n",
        "print(f\"Time taken for element-wise addition using Python lists: {end_time_list - start_time_list:.6f} seconds\")\n",
        "\n",
        "array1 = np.arange(size)\n",
        "array2 = np.arange(size)\n",
        "\n",
        "start_time_numpy = time.time()\n",
        "result_array = array1 + array2\n",
        "end_time_numpy = time.time()\n",
        "time_numpy = end_time_numpy - start_time_numpy\n",
        "\n",
        "print(f\"Time taken for element-wise addition using NumPy arrays: {end_time_numpy - start_time_numpy:.6f} seconds\")\n",
        "\n",
        "\n"
      ],
      "metadata": {
        "colab": {
          "base_uri": "https://localhost:8080/"
        },
        "id": "DRAoDpi_MSBo",
        "outputId": "cde9c6b5-62f3-4fa4-f619-73862f15bdcf"
      },
      "execution_count": 25,
      "outputs": [
        {
          "output_type": "stream",
          "name": "stdout",
          "text": [
            "Time taken for element-wise addition using Python lists: 0.168589 seconds\n",
            "Time taken for element-wise addition using NumPy arrays: 0.002513 seconds\n"
          ]
        }
      ]
    },
    {
      "cell_type": "code",
      "source": [
        "import time\n",
        "import numpy as np\n",
        "size = 1_000_000\n",
        "list1 = [i for i in range(size)]\n",
        "list2 = [i for i in range(size)]\n",
        "start_time_list = time.time()\n",
        "result_list = [list1[i] * list2[i] for i in range(size)]\n",
        "end_time_list = time.time()\n",
        "time_list = end_time_list - start_time_list\n",
        "print(f\"Time taken for element-wise multiplication using Python lists: {time_list:.6f} seconds\")\n",
        "array1 = np.arange(size)\n",
        "array2 = np.arange(size)\n",
        "start_time_numpy = time.time()\n",
        "result_array = array1 * array2\n",
        "end_time_numpy = time.time()\n",
        "time_numpy = end_time_numpy - start_time_numpy\n",
        "print(f\"Time taken for element-wise multiplication using NumPy arrays: {time_numpy:.6f} seconds\")"
      ],
      "metadata": {
        "colab": {
          "base_uri": "https://localhost:8080/"
        },
        "id": "xxP7xq0JMWkb",
        "outputId": "a3f9eecf-cd7c-4817-b89e-b03a148d68d1"
      },
      "execution_count": 24,
      "outputs": [
        {
          "output_type": "stream",
          "name": "stdout",
          "text": [
            "Time taken for element-wise multiplication using Python lists: 0.329253 seconds\n",
            "Time taken for element-wise multiplication using NumPy arrays: 0.005230 seconds\n"
          ]
        }
      ]
    },
    {
      "cell_type": "code",
      "source": [
        "import time\n",
        "import numpy as np\n",
        "\n",
        "size = 1_000_000\n",
        "list1 = [i for i in range(size)]\n",
        "list2 = [i for i in range(size)]\n",
        "\n",
        "start_time_list = time.time()\n",
        "dot_product_list = sum(list1[i] * list2[i] for i in range(size))\n",
        "end_time_list = time.time()\n",
        "time_list = end_time_list - start_time_list\n",
        "print(f\"Time taken for dot product using Python lists: {time_list:.6f} seconds\")\n",
        "\n",
        "array1 = np.arange(size)\n",
        "array2 = np.arange(size)\n",
        "\n",
        "start_time_numpy = time.time()\n",
        "dot_product_numpy = np.dot(array1, array2)\n",
        "end_time_numpy = time.time()\n",
        "time_numpy = end_time_numpy - start_time_numpy\n",
        "print(f\"Time taken for dot product using NumPy arrays: {time_numpy:.6f} seconds\")"
      ],
      "metadata": {
        "colab": {
          "base_uri": "https://localhost:8080/"
        },
        "id": "J0wCgRGtMgVR",
        "outputId": "45ee98fb-a929-4350-dde1-64c8e1ccf63d"
      },
      "execution_count": 26,
      "outputs": [
        {
          "output_type": "stream",
          "name": "stdout",
          "text": [
            "Time taken for dot product using Python lists: 0.321976 seconds\n",
            "Time taken for dot product using NumPy arrays: 0.002238 seconds\n"
          ]
        }
      ]
    },
    {
      "cell_type": "code",
      "source": [
        "import time\n",
        "import numpy as np\n",
        "\n",
        "size = 1000\n",
        "matrix1 = [[i for i in range(size)] for _ in range(size)]\n",
        "matrix2 = [[i for i in range(size)] for _ in range(size)]\n",
        "\n",
        "start_time_list = time.time()\n",
        "result_list = [[sum(matrix1[i][k] * matrix2[k][j] for k in range(size)) for j in range(size)] for i in range(size)]\n",
        "end_time_list = time.time()\n",
        "time_list = end_time_list - start_time_list\n",
        "print(f\"Time taken for matrix multiplication using Python lists: {time_list:.6f} seconds\")\n",
        "\n",
        "array1 = np.arange(size * size).reshape(size, size)\n",
        "array2 = np.arange(size * size).reshape(size, size)\n",
        "\n",
        "start_time_numpy = time.time()\n",
        "result_array = np.dot(array1, array2)\n",
        "end_time_numpy = time.time()\n",
        "\n",
        "print(f\"Time taken for matrix multiplication using NumPy arrays: {time_numpy:.6f} seconds\")\n",
        "\n"
      ],
      "metadata": {
        "id": "e-VP91PoMmSt"
      },
      "execution_count": null,
      "outputs": []
    }
  ]
}